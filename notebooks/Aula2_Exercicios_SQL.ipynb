{
  "nbformat": 4,
  "nbformat_minor": 0,
  "metadata": {
    "kernelspec": {
      "name": "python3",
      "display_name": "Python 3"
    },
    "colab": {
      "name": "Aula2_Exercicios_SQL.ipynb",
      "provenance": [],
      "include_colab_link": true
    },
    "language_info": {
      "name": "python"
    }
  },
  "cells": [
    {
      "cell_type": "markdown",
      "metadata": {
        "id": "view-in-github",
        "colab_type": "text"
      },
      "source": [
        "<a href=\"https://colab.research.google.com/github/LeodeFaria/idp_engenhariadados/blob/main/notebooks/Aula2_Exercicios_SQL.ipynb\" target=\"_parent\"><img src=\"https://colab.research.google.com/assets/colab-badge.svg\" alt=\"Open In Colab\"/></a>"
      ]
    },
    {
      "cell_type": "markdown",
      "metadata": {
        "id": "90ejgqzvHntP"
      },
      "source": [
        "## Tutorial de SQL no Colab"
      ]
    },
    {
      "cell_type": "markdown",
      "metadata": {
        "id": "q1jzUZA7f_oB"
      },
      "source": [
        "#### Instale os pacotes para trabalhar com bancos de dados no colab"
      ]
    },
    {
      "cell_type": "code",
      "metadata": {
        "colab": {
          "base_uri": "https://localhost:8080/",
          "height": 762
        },
        "id": "HJjB-TVyH5Kb",
        "outputId": "cc4cb86c-d4f9-49f3-be87-3353d44d9cc9"
      },
      "source": [
        "#!pip uninstall sqlalchemy # ORM for databases\n",
        "!pip install ipython-sql # SQL magic function"
      ],
      "execution_count": null,
      "outputs": [
        {
          "output_type": "stream",
          "text": [
            "Found existing installation: SQLAlchemy 1.4.20\n",
            "Uninstalling SQLAlchemy-1.4.20:\n",
            "  Would remove:\n",
            "    /usr/local/lib/python3.7/dist-packages/SQLAlchemy-1.4.20.dist-info/*\n",
            "    /usr/local/lib/python3.7/dist-packages/sqlalchemy/*\n",
            "Proceed (y/n)? y\n",
            "  Successfully uninstalled SQLAlchemy-1.4.20\n",
            "Requirement already satisfied: ipython-sql in /usr/local/lib/python3.7/dist-packages (0.3.9)\n",
            "Requirement already satisfied: prettytable in /usr/local/lib/python3.7/dist-packages (from ipython-sql) (2.1.0)\n",
            "Requirement already satisfied: six in /usr/local/lib/python3.7/dist-packages (from ipython-sql) (1.15.0)\n",
            "Requirement already satisfied: sqlparse in /usr/local/lib/python3.7/dist-packages (from ipython-sql) (0.4.1)\n",
            "Requirement already satisfied: ipython>=1.0 in /usr/local/lib/python3.7/dist-packages (from ipython-sql) (5.5.0)\n",
            "Collecting sqlalchemy>=0.6.7\n",
            "  Downloading SQLAlchemy-1.4.22-cp37-cp37m-manylinux_2_5_x86_64.manylinux1_x86_64.manylinux_2_17_x86_64.manylinux2014_x86_64.whl (1.6 MB)\n",
            "\u001b[K     |████████████████████████████████| 1.6 MB 5.0 MB/s \n",
            "\u001b[?25hRequirement already satisfied: ipython-genutils>=0.1.0 in /usr/local/lib/python3.7/dist-packages (from ipython-sql) (0.2.0)\n",
            "Requirement already satisfied: prompt-toolkit<2.0.0,>=1.0.4 in /usr/local/lib/python3.7/dist-packages (from ipython>=1.0->ipython-sql) (1.0.18)\n",
            "Requirement already satisfied: simplegeneric>0.8 in /usr/local/lib/python3.7/dist-packages (from ipython>=1.0->ipython-sql) (0.8.1)\n",
            "Requirement already satisfied: traitlets>=4.2 in /usr/local/lib/python3.7/dist-packages (from ipython>=1.0->ipython-sql) (5.0.5)\n",
            "Requirement already satisfied: decorator in /usr/local/lib/python3.7/dist-packages (from ipython>=1.0->ipython-sql) (4.4.2)\n",
            "Requirement already satisfied: setuptools>=18.5 in /usr/local/lib/python3.7/dist-packages (from ipython>=1.0->ipython-sql) (57.2.0)\n",
            "Requirement already satisfied: pygments in /usr/local/lib/python3.7/dist-packages (from ipython>=1.0->ipython-sql) (2.6.1)\n",
            "Requirement already satisfied: pexpect in /usr/local/lib/python3.7/dist-packages (from ipython>=1.0->ipython-sql) (4.8.0)\n",
            "Requirement already satisfied: pickleshare in /usr/local/lib/python3.7/dist-packages (from ipython>=1.0->ipython-sql) (0.7.5)\n",
            "Requirement already satisfied: wcwidth in /usr/local/lib/python3.7/dist-packages (from prompt-toolkit<2.0.0,>=1.0.4->ipython>=1.0->ipython-sql) (0.2.5)\n",
            "Requirement already satisfied: greenlet!=0.4.17 in /usr/local/lib/python3.7/dist-packages (from sqlalchemy>=0.6.7->ipython-sql) (1.1.0)\n",
            "Requirement already satisfied: importlib-metadata in /usr/local/lib/python3.7/dist-packages (from sqlalchemy>=0.6.7->ipython-sql) (4.6.1)\n",
            "Requirement already satisfied: zipp>=0.5 in /usr/local/lib/python3.7/dist-packages (from importlib-metadata->sqlalchemy>=0.6.7->ipython-sql) (3.5.0)\n",
            "Requirement already satisfied: typing-extensions>=3.6.4 in /usr/local/lib/python3.7/dist-packages (from importlib-metadata->sqlalchemy>=0.6.7->ipython-sql) (3.7.4.3)\n",
            "Requirement already satisfied: ptyprocess>=0.5 in /usr/local/lib/python3.7/dist-packages (from pexpect->ipython>=1.0->ipython-sql) (0.7.0)\n",
            "Installing collected packages: sqlalchemy\n",
            "Successfully installed sqlalchemy-1.4.22\n"
          ],
          "name": "stdout"
        },
        {
          "output_type": "display_data",
          "data": {
            "application/vnd.colab-display-data+json": {
              "pip_warning": {
                "packages": [
                  "sqlalchemy"
                ]
              }
            }
          },
          "metadata": {
            "tags": []
          }
        }
      ]
    },
    {
      "cell_type": "markdown",
      "metadata": {
        "id": "aqXK430pe5XC"
      },
      "source": [
        "#### Faça o download do arquivo de banco de dados world.sqlite"
      ]
    },
    {
      "cell_type": "code",
      "metadata": {
        "colab": {
          "base_uri": "https://localhost:8080/"
        },
        "id": "ujxoRMawaNhJ",
        "outputId": "71b9f749-876e-4b39-afc4-87a9acc5caad"
      },
      "source": [
        "!wget https://github.com/alexlopespereira/idp_engenhariadados/raw/main/data/originais/world/world.sqlite\n",
        "!ls ."
      ],
      "execution_count": null,
      "outputs": [
        {
          "output_type": "stream",
          "text": [
            "--2021-08-06 03:03:52--  https://github.com/alexlopespereira/idp_engenhariadados/raw/main/data/originais/world/world.sqlite\n",
            "Resolving github.com (github.com)... 140.82.112.3\n",
            "Connecting to github.com (github.com)|140.82.112.3|:443... connected.\n",
            "HTTP request sent, awaiting response... 302 Found\n",
            "Location: https://raw.githubusercontent.com/alexlopespereira/idp_engenhariadados/main/data/originais/world/world.sqlite [following]\n",
            "--2021-08-06 03:03:52--  https://raw.githubusercontent.com/alexlopespereira/idp_engenhariadados/main/data/originais/world/world.sqlite\n",
            "Resolving raw.githubusercontent.com (raw.githubusercontent.com)... 185.199.109.133, 185.199.110.133, 185.199.111.133, ...\n",
            "Connecting to raw.githubusercontent.com (raw.githubusercontent.com)|185.199.109.133|:443... connected.\n",
            "HTTP request sent, awaiting response... 200 OK\n",
            "Length: 20480 (20K) [application/octet-stream]\n",
            "Saving to: ‘world.sqlite.1’\n",
            "\n",
            "\rworld.sqlite.1        0%[                    ]       0  --.-KB/s               \rworld.sqlite.1      100%[===================>]  20.00K  --.-KB/s    in 0.001s  \n",
            "\n",
            "2021-08-06 03:03:52 (35.3 MB/s) - ‘world.sqlite.1’ saved [20480/20480]\n",
            "\n",
            "sample_data  world.sqlite  world.sqlite.1\n"
          ],
          "name": "stdout"
        }
      ]
    },
    {
      "cell_type": "code",
      "metadata": {
        "id": "1Hl-HVqIHnte",
        "colab": {
          "base_uri": "https://localhost:8080/",
          "height": 77
        },
        "outputId": "f0372a06-ddbd-46af-cd5f-a40f8baacb2f"
      },
      "source": [
        "# Habilitar a extensão SQL\n",
        "%load_ext sql\n",
        "# Conectar com o banco de dados\n",
        "%sql sqlite:////content//world.sqlite"
      ],
      "execution_count": null,
      "outputs": [
        {
          "output_type": "stream",
          "text": [
            "The sql extension is already loaded. To reload it, use:\n",
            "  %reload_ext sql\n"
          ],
          "name": "stdout"
        },
        {
          "output_type": "execute_result",
          "data": {
            "application/vnd.google.colaboratory.intrinsic+json": {
              "type": "string"
            },
            "text/plain": [
              "'Connected: @/content//world.sqlite'"
            ]
          },
          "metadata": {
            "tags": []
          },
          "execution_count": 2
        }
      ]
    },
    {
      "cell_type": "code",
      "metadata": {
        "id": "UlaUIHglHntn",
        "colab": {
          "base_uri": "https://localhost:8080/",
          "height": 149
        },
        "outputId": "647c28de-ebf7-4701-a823-e3fe149befd7"
      },
      "source": [
        "# Exemplo de query\n",
        "result = %sql select * from world limit 3\n",
        "result"
      ],
      "execution_count": null,
      "outputs": [
        {
          "output_type": "stream",
          "text": [
            " * sqlite:////content//world.sqlite\n",
            "Done.\n"
          ],
          "name": "stdout"
        },
        {
          "output_type": "execute_result",
          "data": {
            "text/html": [
              "<table>\n",
              "    <thead>\n",
              "        <tr>\n",
              "            <th>id</th>\n",
              "            <th>Country</th>\n",
              "            <th>GDP2017</th>\n",
              "            <th>GDP_Growth</th>\n",
              "            <th>Population2017</th>\n",
              "            <th>GDP_PerCapita</th>\n",
              "            <th>ShareOfWorldGDP</th>\n",
              "            <th></th>\n",
              "        </tr>\n",
              "    </thead>\n",
              "    <tbody>\n",
              "        <tr>\n",
              "            <td>1</td>\n",
              "            <td>United States</td>\n",
              "            <td>19,485,394,000,000</td>\n",
              "            <td>2.27</td>\n",
              "            <td>325,084,756</td>\n",
              "            <td>59.94</td>\n",
              "            <td>24.08</td>\n",
              "            <td></td>\n",
              "        </tr>\n",
              "        <tr>\n",
              "            <td>2</td>\n",
              "            <td>China</td>\n",
              "            <td>12,237,700,479,375</td>\n",
              "            <td>6.90</td>\n",
              "            <td>1,421,021,791</td>\n",
              "            <td>8.61</td>\n",
              "            <td>15.12</td>\n",
              "            <td></td>\n",
              "        </tr>\n",
              "        <tr>\n",
              "            <td>3</td>\n",
              "            <td>Japan</td>\n",
              "            <td>4,872,415,104,315</td>\n",
              "            <td>1.71</td>\n",
              "            <td>127,502,725</td>\n",
              "            <td>38.21</td>\n",
              "            <td>6.02</td>\n",
              "            <td></td>\n",
              "        </tr>\n",
              "    </tbody>\n",
              "</table>"
            ],
            "text/plain": [
              "[('1', 'United States', '19,485,394,000,000', '2.27', '325,084,756', '59.94', '24.08', ''),\n",
              " ('2', 'China', '12,237,700,479,375', '6.90', '1,421,021,791', '8.61', '15.12', ''),\n",
              " ('3', 'Japan', '4,872,415,104,315', '1.71', '127,502,725', '38.21', '6.02', '')]"
            ]
          },
          "metadata": {
            "tags": []
          },
          "execution_count": 3
        }
      ]
    },
    {
      "cell_type": "code",
      "metadata": {
        "id": "ZrvzRfcAHntp",
        "colab": {
          "base_uri": "https://localhost:8080/"
        },
        "outputId": "7aa86a1f-a8cb-4adb-a3eb-e2c752348e44"
      },
      "source": [
        "# Exemplo de Query em multiplas linhas\n",
        "%%sql result_set << \n",
        "SELECT Country, GDP2017\n",
        "FROM world\n",
        "LIMIT 3"
      ],
      "execution_count": null,
      "outputs": [
        {
          "output_type": "stream",
          "text": [
            " * sqlite:////content//world.sqlite\n",
            "Done.\n",
            "Returning data to local variable result_set\n"
          ],
          "name": "stdout"
        }
      ]
    },
    {
      "cell_type": "code",
      "metadata": {
        "id": "N0_v2iZiHntp",
        "colab": {
          "base_uri": "https://localhost:8080/",
          "height": 109
        },
        "outputId": "0536cdf6-a01a-4f12-b9ae-f19327d038c7"
      },
      "source": [
        "result_set"
      ],
      "execution_count": null,
      "outputs": [
        {
          "output_type": "execute_result",
          "data": {
            "text/html": [
              "<table>\n",
              "    <thead>\n",
              "        <tr>\n",
              "            <th>Country</th>\n",
              "            <th>GDP2017</th>\n",
              "        </tr>\n",
              "    </thead>\n",
              "    <tbody>\n",
              "        <tr>\n",
              "            <td>United States</td>\n",
              "            <td>19,485,394,000,000</td>\n",
              "        </tr>\n",
              "        <tr>\n",
              "            <td>China</td>\n",
              "            <td>12,237,700,479,375</td>\n",
              "        </tr>\n",
              "        <tr>\n",
              "            <td>Japan</td>\n",
              "            <td>4,872,415,104,315</td>\n",
              "        </tr>\n",
              "    </tbody>\n",
              "</table>"
            ],
            "text/plain": [
              "[('United States', '19,485,394,000,000'),\n",
              " ('China', '12,237,700,479,375'),\n",
              " ('Japan', '4,872,415,104,315')]"
            ]
          },
          "metadata": {
            "tags": []
          },
          "execution_count": 5
        }
      ]
    },
    {
      "cell_type": "code",
      "metadata": {
        "id": "6lJ4AzkYHntr",
        "colab": {
          "base_uri": "https://localhost:8080/",
          "height": 148
        },
        "outputId": "46391a3e-fafb-45ec-af0d-cf7a79ceebda"
      },
      "source": [
        "# Curiosidade: Transformar o resultado num datafram\n",
        "result_set.DataFrame()"
      ],
      "execution_count": null,
      "outputs": [
        {
          "output_type": "execute_result",
          "data": {
            "text/html": [
              "<div>\n",
              "<style scoped>\n",
              "    .dataframe tbody tr th:only-of-type {\n",
              "        vertical-align: middle;\n",
              "    }\n",
              "\n",
              "    .dataframe tbody tr th {\n",
              "        vertical-align: top;\n",
              "    }\n",
              "\n",
              "    .dataframe thead th {\n",
              "        text-align: right;\n",
              "    }\n",
              "</style>\n",
              "<table border=\"1\" class=\"dataframe\">\n",
              "  <thead>\n",
              "    <tr style=\"text-align: right;\">\n",
              "      <th></th>\n",
              "      <th>Country</th>\n",
              "      <th>GDP2017</th>\n",
              "    </tr>\n",
              "  </thead>\n",
              "  <tbody>\n",
              "    <tr>\n",
              "      <th>0</th>\n",
              "      <td>United States</td>\n",
              "      <td>19,485,394,000,000</td>\n",
              "    </tr>\n",
              "    <tr>\n",
              "      <th>1</th>\n",
              "      <td>China</td>\n",
              "      <td>12,237,700,479,375</td>\n",
              "    </tr>\n",
              "    <tr>\n",
              "      <th>2</th>\n",
              "      <td>Japan</td>\n",
              "      <td>4,872,415,104,315</td>\n",
              "    </tr>\n",
              "  </tbody>\n",
              "</table>\n",
              "</div>"
            ],
            "text/plain": [
              "         Country             GDP2017\n",
              "0  United States  19,485,394,000,000\n",
              "1          China  12,237,700,479,375\n",
              "2          Japan   4,872,415,104,315"
            ]
          },
          "metadata": {
            "tags": []
          },
          "execution_count": 6
        }
      ]
    },
    {
      "cell_type": "markdown",
      "metadata": {
        "id": "Qs77jZB2hE0k"
      },
      "source": [
        "## Exercícios de SQL"
      ]
    },
    {
      "cell_type": "markdown",
      "metadata": {
        "id": "NxNoeSuShJzU"
      },
      "source": [
        "#### 2.1) Utilizando a base de dados SQLite world disponibilizada, calcule a média e a soma da população de todos os registros da tabela world.\n"
      ]
    },
    {
      "cell_type": "code",
      "metadata": {
        "id": "kopKI_ZshIWY"
      },
      "source": [
        ""
      ],
      "execution_count": null,
      "outputs": []
    },
    {
      "cell_type": "markdown",
      "metadata": {
        "id": "BBnTDiuIhm6S"
      },
      "source": [
        "#### 2.2) Utilizando a base de dados SQLite world disponibilizada, calcule a média e a soma da população de todos os registros da tabela world do continente de Africano."
      ]
    },
    {
      "cell_type": "code",
      "metadata": {
        "id": "_Q4l2Db3hnWf"
      },
      "source": [
        ""
      ],
      "execution_count": null,
      "outputs": []
    },
    {
      "cell_type": "markdown",
      "metadata": {
        "id": "UWUtwh9chozC"
      },
      "source": [
        "#### 2.3) Utilizando a base de dados SQLite world disponibilizada, retorne a máxima população do continente do Europeu."
      ]
    },
    {
      "cell_type": "code",
      "metadata": {
        "id": "q8Qs94xghoXK"
      },
      "source": [
        ""
      ],
      "execution_count": null,
      "outputs": []
    },
    {
      "cell_type": "markdown",
      "metadata": {
        "id": "gJpaaBlvhqkI"
      },
      "source": [
        "#### 2.4) Utilizando a base de dados SQLite world disponibilizada, calcule a média da população dos continentes cujo nome começa com a letra A."
      ]
    },
    {
      "cell_type": "code",
      "metadata": {
        "id": "ei9u4GjyhpZu"
      },
      "source": [
        ""
      ],
      "execution_count": null,
      "outputs": []
    },
    {
      "cell_type": "markdown",
      "metadata": {
        "id": "HEVZsiOVhrEl"
      },
      "source": [
        "#### 2.5) Utilizando a base de dados SQLite world disponibilizada, retorne os nomes dos continentes, sem repetições."
      ]
    },
    {
      "cell_type": "code",
      "metadata": {
        "id": "ZsrUThRnhp8b"
      },
      "source": [
        ""
      ],
      "execution_count": null,
      "outputs": []
    },
    {
      "cell_type": "markdown",
      "metadata": {
        "id": "Df0ef_iLhrq6"
      },
      "source": [
        "#### 2.6) Utilizando a base de dados SQLite world disponibilizada, conte a quantidade de continentes, sem repetições."
      ]
    },
    {
      "cell_type": "code",
      "metadata": {
        "id": "aBcoiujahptb"
      },
      "source": [
        ""
      ],
      "execution_count": null,
      "outputs": []
    }
  ]
}